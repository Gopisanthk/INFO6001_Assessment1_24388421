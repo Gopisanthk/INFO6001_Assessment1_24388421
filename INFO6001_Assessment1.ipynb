{
  "nbformat": 4,
  "nbformat_minor": 0,
  "metadata": {
    "colab": {
      "provenance": [],
      "authorship_tag": "ABX9TyPCeB+svdk6R4tx2rJvb87n",
      "include_colab_link": true
    },
    "kernelspec": {
      "name": "python3",
      "display_name": "Python 3"
    },
    "language_info": {
      "name": "python"
    }
  },
  "cells": [
    {
      "cell_type": "markdown",
      "metadata": {
        "id": "view-in-github",
        "colab_type": "text"
      },
      "source": [
        "<a href=\"https://colab.research.google.com/github/Gopisanthk/INFO6001_Assessment1_24388421/blob/main/INFO6001_Assessment1.ipynb\" target=\"_parent\"><img src=\"https://colab.research.google.com/assets/colab-badge.svg\" alt=\"Open In Colab\"/></a>"
      ]
    },
    {
      "cell_type": "code",
      "execution_count": 3,
      "metadata": {
        "colab": {
          "base_uri": "https://localhost:8080/"
        },
        "id": "RqUimojcl6OX",
        "outputId": "0024e455-0836-45af-ec30-0f0b59387565"
      },
      "outputs": [
        {
          "output_type": "stream",
          "name": "stdout",
          "text": [
            "Mining block 1...\n",
            "Mining block 2...\n",
            "\n",
            "Blockchain validity: None\n",
            "Block 0 | Hash: 40ce2c141c51dfd55104006cc03d184a493e9a135a10b9385c38cc82542c2ef0 | Previous Hash: 0\n"
          ]
        }
      ],
      "source": [
        "import hashlib\n",
        "import time\n",
        "\n",
        "class Block:\n",
        "    def __init__(self, index, previous_hash, timestamp, data, proof):\n",
        "        self.index = index\n",
        "        self.previous_hash = previous_hash\n",
        "        self.timestamp = timestamp\n",
        "        self.data = data\n",
        "        self.proof = proof\n",
        "        self.hash = self.calculate_hash()\n",
        "\n",
        "    def calculate_hash(self):\n",
        "      block_string = f\"{self.index}{self.previous_hash}{self.timestamp}{self.data}{self.proof}\"\n",
        "      return hashlib.sha256(block_string.encode()).hexdigest()\n",
        "\n",
        "\n",
        "\n",
        "\n",
        "class Blockchain:\n",
        "    def __init__(self):\n",
        "        self.chain = [self.create_genesis_block()]\n",
        "        self.difficulty = 4  # Number of leading zeros required in the hash\n",
        "\n",
        "    def create_genesis_block(self):\n",
        "      return Block(0, \"0\", time.time(), \"Genesis Block\", 0)\n",
        "\n",
        "    def get_latest_block(self):\n",
        "      return self.chain[-1]\n",
        "\n",
        "    def add_block(self, new_block):\n",
        "      new_block.previous_hash = self.get_latest_block().hash\n",
        "      proofed_block = self.proof_of_work(new_block)\n",
        "      self.chain.append(proofed_block)\n",
        "\n",
        "    def proof_of_work(self, block):\n",
        "      block.proof = 0\n",
        "      computed_hash = block.calculate_hash()\n",
        "      while not computed_hash.startswith('0' * self.difficulty):\n",
        "          block.proof += 1\n",
        "          computed_hash = block.calculate_hash()\n",
        "      block.hash = computed_hash\n",
        "      return block\n",
        "\n",
        "    def add_data(self, data):\n",
        "      index = len(self.chain)\n",
        "      previous_hash = self.get_latest_block().hash\n",
        "      timestamp = time.time()\n",
        "      new_block = Block(index, previous_hash, timestamp, data, 0)\n",
        "      self.add_block(new_block)\n",
        "\n",
        "    def is_chain_valid(self):\n",
        "        # TODO: Validate the integrity of the blockchain\n",
        "        # Hint: Check that each block's hash is correct and that the previous_hash matches the hash of the previous block\n",
        "        pass\n",
        "\n",
        "\n",
        "# Example Usage\n",
        "if __name__ == \"__main__\":\n",
        "    blockchain = Blockchain()\n",
        "\n",
        "    print(\"Mining block 1...\")\n",
        "    blockchain.add_data(\"Transaction data for Block 1\")\n",
        "\n",
        "    print(\"Mining block 2...\")\n",
        "    blockchain.add_data(\"Transaction data for Block 2\")\n",
        "\n",
        "    print(\"\\nBlockchain validity:\", blockchain.is_chain_valid())\n",
        "\n",
        "    for block in blockchain.chain:\n",
        "        print(f\"Block {block.index} | Hash: {block.hash} | Previous Hash: {block.previous_hash}\")"
      ]
    }
  ]
}